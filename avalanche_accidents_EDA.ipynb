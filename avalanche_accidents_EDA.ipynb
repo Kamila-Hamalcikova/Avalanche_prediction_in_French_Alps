{
 "cells": [
  {
   "cell_type": "markdown",
   "metadata": {},
   "source": [
    "# Exploration data analysis of avalanche accidents in France"
   ]
  },
  {
   "cell_type": "code",
   "execution_count": 1,
   "metadata": {},
   "outputs": [],
   "source": [
    "# import of standard Python libraries for data analysis\n",
    "import pandas as pd\n",
    "import numpy as np\n",
    "import matplotlib.pyplot as plt\n",
    "import seaborn as sns\n",
    "import os"
   ]
  },
  {
   "cell_type": "markdown",
   "metadata": {},
   "source": [
    "#### Table of contents\n",
    "\n",
    "<ul>\n",
    "    <li><a href=\"#reading\">1. Reading dataset and viewing general info</a></li>    \n",
    "    <li><a href=\"#viz\">2. Visualization</a></li>\n",
    "        <ul>\n",
    "            <li><a href=\"#viz_1\">2.1 Visualization of most dangerous months for avalanche accidents and other time related info</a></li>  \n",
    "            <li><a href=\"#viz_2\">2.2 Visualization of most dangerous activities on mountains</a></li>\n",
    "            <li><a href=\"#viz_3\">2.3 Visualization of most dangerous group size when moving on mountains</a></li>\n",
    "            <li><a href=\"#viz_4\">2.4 Visualization of most dangerous altitude </a></li>\n",
    "            <li><a href=\"#viz_5\">2.5 Visualization of most dangerous time during the day</a></li>\n",
    "        </ul>\n",
    "    <li><a href=\"#french_alps\">3. Focus only on massifs on French Alps</a></li>\n",
    "        <ul>\n",
    "            <li><a href=\"#alps_1\">3.1 Import of data from shapefile for later geospatial visualization</a></li>\n",
    "            <li><a href=\"#alps_2\">3.2 Geospatial visualization with Bokeh</a></li>\n",
    "        </ul>\n",
    "</ul>"
   ]
  },
  {
   "cell_type": "markdown",
   "metadata": {},
   "source": [
    "<a id='reading'></a>\n",
    "## Reading dataset and viewing general info"
   ]
  },
  {
   "cell_type": "code",
   "execution_count": 2,
   "metadata": {},
   "outputs": [
    {
     "data": {
      "text/html": [
       "<div>\n",
       "<style scoped>\n",
       "    .dataframe tbody tr th:only-of-type {\n",
       "        vertical-align: middle;\n",
       "    }\n",
       "\n",
       "    .dataframe tbody tr th {\n",
       "        vertical-align: top;\n",
       "    }\n",
       "\n",
       "    .dataframe thead th {\n",
       "        text-align: right;\n",
       "    }\n",
       "</style>\n",
       "<table border=\"1\" class=\"dataframe\">\n",
       "  <thead>\n",
       "    <tr style=\"text-align: right;\">\n",
       "      <th></th>\n",
       "      <th>code accident</th>\n",
       "      <th>date</th>\n",
       "      <th>heure</th>\n",
       "      <th>département</th>\n",
       "      <th>commune</th>\n",
       "      <th>massif</th>\n",
       "      <th>region</th>\n",
       "      <th>massif_unique</th>\n",
       "      <th>site</th>\n",
       "      <th>coordonnées\\n zone départ</th>\n",
       "      <th>altitude</th>\n",
       "      <th>inclinaison</th>\n",
       "      <th>orientation</th>\n",
       "      <th>groupe</th>\n",
       "      <th>emportés</th>\n",
       "      <th>ensevelis \\n tête</th>\n",
       "      <th>décédés</th>\n",
       "      <th>blessées</th>\n",
       "      <th>indemnes</th>\n",
       "      <th>activité</th>\n",
       "      <th>activite_regrouped</th>\n",
       "      <th>évolution</th>\n",
       "      <th>BRA</th>\n",
       "      <th>qualité \\n neige</th>\n",
       "      <th>cohésion\\n neige</th>\n",
       "      <th>type \\n départ</th>\n",
       "      <th>cause départ</th>\n",
       "      <th>dénivelé\\n (mètres)</th>\n",
       "      <th>largeur \\n cassure\\n (mètres)</th>\n",
       "      <th>épaisseur\\n cassure max. \\n (cm)</th>\n",
       "    </tr>\n",
       "  </thead>\n",
       "  <tbody>\n",
       "    <tr>\n",
       "      <th>0</th>\n",
       "      <td>1011-05-09</td>\n",
       "      <td>2011-03-19</td>\n",
       "      <td>15:30</td>\n",
       "      <td>5</td>\n",
       "      <td>molines</td>\n",
       "      <td>queyras</td>\n",
       "      <td>alps</td>\n",
       "      <td>Queyras</td>\n",
       "      <td>rif ousselat</td>\n",
       "      <td>32t 0333526 4953556</td>\n",
       "      <td>2540.0</td>\n",
       "      <td>40-44</td>\n",
       "      <td>N</td>\n",
       "      <td>2.0</td>\n",
       "      <td>1</td>\n",
       "      <td>1</td>\n",
       "      <td>1</td>\n",
       "      <td>0</td>\n",
       "      <td>0</td>\n",
       "      <td>hors-piste</td>\n",
       "      <td>off-piste (ski, snowboard)</td>\n",
       "      <td>NaN</td>\n",
       "      <td>3.0</td>\n",
       "      <td>sèche</td>\n",
       "      <td>tendre</td>\n",
       "      <td>linéaire</td>\n",
       "      <td>accidentelle soi-même</td>\n",
       "      <td>450.0</td>\n",
       "      <td>800.0</td>\n",
       "      <td>70.0</td>\n",
       "    </tr>\n",
       "    <tr>\n",
       "      <th>1</th>\n",
       "      <td>1415-73-04</td>\n",
       "      <td>2015-01-05</td>\n",
       "      <td>13:05</td>\n",
       "      <td>73</td>\n",
       "      <td>sainte foy tarentaise</td>\n",
       "      <td>haute tarentaise</td>\n",
       "      <td>alps</td>\n",
       "      <td>Hte-tarent</td>\n",
       "      <td>face nord fogliettaz</td>\n",
       "      <td>45°34'55.9\" / 6°56'17.66\"</td>\n",
       "      <td>2820.0</td>\n",
       "      <td>40-44</td>\n",
       "      <td>N</td>\n",
       "      <td>6.0</td>\n",
       "      <td>5</td>\n",
       "      <td>0</td>\n",
       "      <td>0</td>\n",
       "      <td>0</td>\n",
       "      <td>3</td>\n",
       "      <td>randonnée</td>\n",
       "      <td>hiking</td>\n",
       "      <td>NaN</td>\n",
       "      <td>3.0</td>\n",
       "      <td>sèche</td>\n",
       "      <td>tendre</td>\n",
       "      <td>linéaire</td>\n",
       "      <td>accidentelle soi-même</td>\n",
       "      <td>330.0</td>\n",
       "      <td>800.0</td>\n",
       "      <td>100.0</td>\n",
       "    </tr>\n",
       "    <tr>\n",
       "      <th>2</th>\n",
       "      <td>1718-73-12</td>\n",
       "      <td>2018-02-18</td>\n",
       "      <td>12:35</td>\n",
       "      <td>73</td>\n",
       "      <td>val d'isere</td>\n",
       "      <td>haute tarentaise</td>\n",
       "      <td>alps</td>\n",
       "      <td>Hte-tarent</td>\n",
       "      <td>piste rouge combe du géant / pisaillas</td>\n",
       "      <td>45°25'48\" / 7°02'47\"</td>\n",
       "      <td>3050.0</td>\n",
       "      <td>&gt;45</td>\n",
       "      <td>S</td>\n",
       "      <td>7.0</td>\n",
       "      <td>3</td>\n",
       "      <td>2</td>\n",
       "      <td>2</td>\n",
       "      <td>0</td>\n",
       "      <td>0</td>\n",
       "      <td>hors-piste</td>\n",
       "      <td>off-piste (ski, snowboard)</td>\n",
       "      <td>NaN</td>\n",
       "      <td>3.0</td>\n",
       "      <td>humide</td>\n",
       "      <td>tendre</td>\n",
       "      <td>linéaire</td>\n",
       "      <td>naturelle</td>\n",
       "      <td>200.0</td>\n",
       "      <td>500.0</td>\n",
       "      <td>80.0</td>\n",
       "    </tr>\n",
       "    <tr>\n",
       "      <th>3</th>\n",
       "      <td>1011-05-08</td>\n",
       "      <td>2011-03-19</td>\n",
       "      <td>12:05</td>\n",
       "      <td>5</td>\n",
       "      <td>ceillac</td>\n",
       "      <td>queyras</td>\n",
       "      <td>alps</td>\n",
       "      <td>Queyras</td>\n",
       "      <td>vallon beaubarnon</td>\n",
       "      <td>32t 0328612 4945259</td>\n",
       "      <td>2530.0</td>\n",
       "      <td>30-34</td>\n",
       "      <td>N</td>\n",
       "      <td>4.0</td>\n",
       "      <td>4</td>\n",
       "      <td>3</td>\n",
       "      <td>3</td>\n",
       "      <td>0</td>\n",
       "      <td>1</td>\n",
       "      <td>randonnée</td>\n",
       "      <td>hiking</td>\n",
       "      <td>NaN</td>\n",
       "      <td>3.0</td>\n",
       "      <td>sèche</td>\n",
       "      <td>tendre</td>\n",
       "      <td>linéaire</td>\n",
       "      <td>accidentelle soi-même</td>\n",
       "      <td>150.0</td>\n",
       "      <td>500.0</td>\n",
       "      <td>60.0</td>\n",
       "    </tr>\n",
       "    <tr>\n",
       "      <th>4</th>\n",
       "      <td>1718-73-06</td>\n",
       "      <td>2018-01-03</td>\n",
       "      <td>16:00</td>\n",
       "      <td>73</td>\n",
       "      <td>bonneval sur arc</td>\n",
       "      <td>haute tarentaise</td>\n",
       "      <td>alps</td>\n",
       "      <td>Hte-tarent</td>\n",
       "      <td>lécharenne pont de la lama</td>\n",
       "      <td>45°23'6\" / 7°4'24\"</td>\n",
       "      <td>2500.0</td>\n",
       "      <td>35-39</td>\n",
       "      <td>SE</td>\n",
       "      <td>1.0</td>\n",
       "      <td>1</td>\n",
       "      <td>1</td>\n",
       "      <td>1</td>\n",
       "      <td>0</td>\n",
       "      <td>0</td>\n",
       "      <td>habitation</td>\n",
       "      <td>other</td>\n",
       "      <td>NaN</td>\n",
       "      <td>4.0</td>\n",
       "      <td>sèche</td>\n",
       "      <td>NaN</td>\n",
       "      <td>linéaire</td>\n",
       "      <td>naturelle</td>\n",
       "      <td>600.0</td>\n",
       "      <td>450.0</td>\n",
       "      <td>NaN</td>\n",
       "    </tr>\n",
       "  </tbody>\n",
       "</table>\n",
       "</div>"
      ],
      "text/plain": [
       "  code accident        date  heure  département                commune  \\\n",
       "0    1011-05-09  2011-03-19  15:30            5                molines   \n",
       "1    1415-73-04  2015-01-05  13:05           73  sainte foy tarentaise   \n",
       "2    1718-73-12  2018-02-18  12:35           73            val d'isere   \n",
       "3    1011-05-08  2011-03-19  12:05            5                ceillac   \n",
       "4    1718-73-06  2018-01-03  16:00           73       bonneval sur arc   \n",
       "\n",
       "             massif region massif_unique  \\\n",
       "0           queyras   alps       Queyras   \n",
       "1  haute tarentaise   alps    Hte-tarent   \n",
       "2  haute tarentaise   alps    Hte-tarent   \n",
       "3           queyras   alps       Queyras   \n",
       "4  haute tarentaise   alps    Hte-tarent   \n",
       "\n",
       "                                     site  coordonnées\\n zone départ  \\\n",
       "0                            rif ousselat        32t 0333526 4953556   \n",
       "1                    face nord fogliettaz  45°34'55.9\" / 6°56'17.66\"   \n",
       "2  piste rouge combe du géant / pisaillas       45°25'48\" / 7°02'47\"   \n",
       "3                       vallon beaubarnon        32t 0328612 4945259   \n",
       "4              lécharenne pont de la lama         45°23'6\" / 7°4'24\"   \n",
       "\n",
       "   altitude inclinaison orientation  groupe  emportés  ensevelis \\n tête  \\\n",
       "0    2540.0       40-44           N     2.0         1                  1   \n",
       "1    2820.0       40-44           N     6.0         5                  0   \n",
       "2    3050.0         >45           S     7.0         3                  2   \n",
       "3    2530.0       30-34           N     4.0         4                  3   \n",
       "4    2500.0       35-39          SE     1.0         1                  1   \n",
       "\n",
       "   décédés  blessées  indemnes    activité          activite_regrouped  \\\n",
       "0        1         0         0  hors-piste  off-piste (ski, snowboard)   \n",
       "1        0         0         3   randonnée                      hiking   \n",
       "2        2         0         0  hors-piste  off-piste (ski, snowboard)   \n",
       "3        3         0         1   randonnée                      hiking   \n",
       "4        1         0         0  habitation                       other   \n",
       "\n",
       "  évolution  BRA qualité \\n neige cohésion\\n neige type \\n départ  \\\n",
       "0       NaN  3.0            sèche           tendre       linéaire   \n",
       "1       NaN  3.0            sèche           tendre       linéaire   \n",
       "2       NaN  3.0           humide           tendre       linéaire   \n",
       "3       NaN  3.0            sèche           tendre       linéaire   \n",
       "4       NaN  4.0            sèche              NaN       linéaire   \n",
       "\n",
       "            cause départ  dénivelé\\n (mètres)  largeur \\n cassure\\n (mètres)  \\\n",
       "0  accidentelle soi-même                450.0                          800.0   \n",
       "1  accidentelle soi-même                330.0                          800.0   \n",
       "2              naturelle                200.0                          500.0   \n",
       "3  accidentelle soi-même                150.0                          500.0   \n",
       "4              naturelle                600.0                          450.0   \n",
       "\n",
       "   épaisseur\\n cassure max. \\n (cm)  \n",
       "0                              70.0  \n",
       "1                             100.0  \n",
       "2                              80.0  \n",
       "3                              60.0  \n",
       "4                               NaN  "
      ]
     },
     "execution_count": 2,
     "metadata": {},
     "output_type": "execute_result"
    }
   ],
   "source": [
    "# reading dataset based on open data from yearly ANENA reports \n",
    "# source: https://www.anena.org/5041-bilan-des-accidents.htm\n",
    "file = os.path.join('5041-bilan-des-accidents - cleaned.csv')\n",
    "df = pd.read_csv(file)\n",
    "pd.set_option('display.max_columns', 500)\n",
    "df.head()"
   ]
  },
  {
   "cell_type": "code",
   "execution_count": 3,
   "metadata": {},
   "outputs": [
    {
     "name": "stdout",
     "output_type": "stream",
     "text": [
      "<class 'pandas.core.frame.DataFrame'>\n",
      "RangeIndex: 569 entries, 0 to 568\n",
      "Data columns (total 30 columns):\n",
      " #   Column                          Non-Null Count  Dtype  \n",
      "---  ------                          --------------  -----  \n",
      " 0   code accident                   569 non-null    object \n",
      " 1   date                            569 non-null    object \n",
      " 2   heure                           373 non-null    object \n",
      " 3   département                     569 non-null    int64  \n",
      " 4   commune                         569 non-null    object \n",
      " 5   massif                          569 non-null    object \n",
      " 6   region                          569 non-null    object \n",
      " 7   massif_unique                   569 non-null    object \n",
      " 8   site                            440 non-null    object \n",
      " 9   coordonnées\n",
      " zone départ        239 non-null    object \n",
      " 10  altitude                        330 non-null    float64\n",
      " 11  inclinaison                     299 non-null    object \n",
      " 12  orientation                     331 non-null    object \n",
      " 13  groupe                          438 non-null    float64\n",
      " 14  emportés                        569 non-null    int64  \n",
      " 15  ensevelis \n",
      " tête                569 non-null    int64  \n",
      " 16  décédés                         569 non-null    int64  \n",
      " 17  blessées                        569 non-null    int64  \n",
      " 18  indemnes                        569 non-null    int64  \n",
      " 19  activité                        569 non-null    object \n",
      " 20  activite_regrouped              569 non-null    object \n",
      " 21  évolution                       235 non-null    object \n",
      " 22  BRA                             285 non-null    float64\n",
      " 23  qualité \n",
      " neige                 359 non-null    object \n",
      " 24  cohésion\n",
      " neige                 281 non-null    object \n",
      " 25  type \n",
      " départ                   416 non-null    object \n",
      " 26  cause départ                    421 non-null    object \n",
      " 27  dénivelé\n",
      " (mètres)              287 non-null    float64\n",
      " 28  largeur \n",
      " cassure\n",
      " (mètres)     259 non-null    float64\n",
      " 29  épaisseur\n",
      " cassure max. \n",
      " (cm)  232 non-null    float64\n",
      "dtypes: float64(6), int64(6), object(18)\n",
      "memory usage: 133.5+ KB\n"
     ]
    }
   ],
   "source": [
    "# checking dataset\n",
    "df.info()"
   ]
  },
  {
   "cell_type": "code",
   "execution_count": 4,
   "metadata": {},
   "outputs": [
    {
     "data": {
      "text/plain": [
       "Index(['code accident', 'date', 'heure', 'département', 'commune', 'massif',\n",
       "       'region', 'massif_unique', 'site', 'coordonnées\\n zone départ',\n",
       "       'altitude', 'inclinaison', 'orientation', 'groupe', 'emportés',\n",
       "       'ensevelis \\n tête', 'décédés', 'blessées', 'indemnes', 'activité',\n",
       "       'activite_regrouped', 'évolution', 'BRA', 'qualité \\n neige',\n",
       "       'cohésion\\n neige', 'type \\n départ', 'cause départ',\n",
       "       'dénivelé\\n (mètres)', 'largeur \\n cassure\\n (mètres)',\n",
       "       'épaisseur\\n cassure max. \\n (cm)'],\n",
       "      dtype='object')"
      ]
     },
     "execution_count": 4,
     "metadata": {},
     "output_type": "execute_result"
    }
   ],
   "source": [
    "# viewing all column names\n",
    "df.columns"
   ]
  },
  {
   "cell_type": "code",
   "execution_count": 5,
   "metadata": {},
   "outputs": [],
   "source": [
    "# removing dates out of range for my analysis\n",
    "df['date'] = pd.to_datetime(df['date'], format='%Y-%m-%d')\n",
    "df = df[(df[\"date\"]>\"2010-9-30\") & (df[\"date\"]<\"2019-10-01\")]"
   ]
  },
  {
   "cell_type": "markdown",
   "metadata": {},
   "source": [
    "<a id='viz'></a>\n",
    "## Visualization\n",
    "<a id='viz_1'></a>\n",
    "### Visualization of most dangerous months for avalanche accidents and other time related info"
   ]
  },
  {
   "cell_type": "code",
   "execution_count": 6,
   "metadata": {},
   "outputs": [],
   "source": [
    "# creating new variable by extracting month from date\n",
    "df['month'] = df['date'].dt.month_name().str.slice(0,3)"
   ]
  },
  {
   "cell_type": "code",
   "execution_count": 7,
   "metadata": {},
   "outputs": [
    {
     "data": {
      "text/html": [
       "<div>\n",
       "<style scoped>\n",
       "    .dataframe tbody tr th:only-of-type {\n",
       "        vertical-align: middle;\n",
       "    }\n",
       "\n",
       "    .dataframe tbody tr th {\n",
       "        vertical-align: top;\n",
       "    }\n",
       "\n",
       "    .dataframe thead th {\n",
       "        text-align: right;\n",
       "    }\n",
       "</style>\n",
       "<table border=\"1\" class=\"dataframe\">\n",
       "  <thead>\n",
       "    <tr style=\"text-align: right;\">\n",
       "      <th></th>\n",
       "      <th>index</th>\n",
       "      <th>month</th>\n",
       "    </tr>\n",
       "  </thead>\n",
       "  <tbody>\n",
       "    <tr>\n",
       "      <th>0</th>\n",
       "      <td>Mar</td>\n",
       "      <td>136</td>\n",
       "    </tr>\n",
       "    <tr>\n",
       "      <th>1</th>\n",
       "      <td>Feb</td>\n",
       "      <td>116</td>\n",
       "    </tr>\n",
       "    <tr>\n",
       "      <th>2</th>\n",
       "      <td>Jan</td>\n",
       "      <td>104</td>\n",
       "    </tr>\n",
       "    <tr>\n",
       "      <th>3</th>\n",
       "      <td>Dec</td>\n",
       "      <td>75</td>\n",
       "    </tr>\n",
       "    <tr>\n",
       "      <th>4</th>\n",
       "      <td>Apr</td>\n",
       "      <td>54</td>\n",
       "    </tr>\n",
       "    <tr>\n",
       "      <th>5</th>\n",
       "      <td>May</td>\n",
       "      <td>18</td>\n",
       "    </tr>\n",
       "    <tr>\n",
       "      <th>6</th>\n",
       "      <td>Nov</td>\n",
       "      <td>11</td>\n",
       "    </tr>\n",
       "    <tr>\n",
       "      <th>7</th>\n",
       "      <td>Oct</td>\n",
       "      <td>3</td>\n",
       "    </tr>\n",
       "    <tr>\n",
       "      <th>8</th>\n",
       "      <td>Jun</td>\n",
       "      <td>2</td>\n",
       "    </tr>\n",
       "    <tr>\n",
       "      <th>9</th>\n",
       "      <td>Aug</td>\n",
       "      <td>2</td>\n",
       "    </tr>\n",
       "    <tr>\n",
       "      <th>10</th>\n",
       "      <td>Jul</td>\n",
       "      <td>1</td>\n",
       "    </tr>\n",
       "    <tr>\n",
       "      <th>11</th>\n",
       "      <td>Sep</td>\n",
       "      <td>1</td>\n",
       "    </tr>\n",
       "  </tbody>\n",
       "</table>\n",
       "</div>"
      ],
      "text/plain": [
       "   index  month\n",
       "0    Mar    136\n",
       "1    Feb    116\n",
       "2    Jan    104\n",
       "3    Dec     75\n",
       "4    Apr     54\n",
       "5    May     18\n",
       "6    Nov     11\n",
       "7    Oct      3\n",
       "8    Jun      2\n",
       "9    Aug      2\n",
       "10   Jul      1\n",
       "11   Sep      1"
      ]
     },
     "execution_count": 7,
     "metadata": {},
     "output_type": "execute_result"
    }
   ],
   "source": [
    "# creating dataframe with monthly data\n",
    "df_monthly = df[\"month\"].value_counts()\n",
    "df_monthly = df_monthly.to_frame().reset_index()\n",
    "df_monthly"
   ]
  },
  {
   "cell_type": "code",
   "execution_count": 8,
   "metadata": {},
   "outputs": [
    {
     "data": {
      "text/html": [
       "<div>\n",
       "<style scoped>\n",
       "    .dataframe tbody tr th:only-of-type {\n",
       "        vertical-align: middle;\n",
       "    }\n",
       "\n",
       "    .dataframe tbody tr th {\n",
       "        vertical-align: top;\n",
       "    }\n",
       "\n",
       "    .dataframe thead th {\n",
       "        text-align: right;\n",
       "    }\n",
       "</style>\n",
       "<table border=\"1\" class=\"dataframe\">\n",
       "  <thead>\n",
       "    <tr style=\"text-align: right;\">\n",
       "      <th></th>\n",
       "      <th>month</th>\n",
       "      <th>avalanche accidents count</th>\n",
       "    </tr>\n",
       "  </thead>\n",
       "  <tbody>\n",
       "    <tr>\n",
       "      <th>0</th>\n",
       "      <td>Mar</td>\n",
       "      <td>136</td>\n",
       "    </tr>\n",
       "    <tr>\n",
       "      <th>1</th>\n",
       "      <td>Feb</td>\n",
       "      <td>116</td>\n",
       "    </tr>\n",
       "    <tr>\n",
       "      <th>2</th>\n",
       "      <td>Jan</td>\n",
       "      <td>104</td>\n",
       "    </tr>\n",
       "    <tr>\n",
       "      <th>3</th>\n",
       "      <td>Dec</td>\n",
       "      <td>75</td>\n",
       "    </tr>\n",
       "    <tr>\n",
       "      <th>4</th>\n",
       "      <td>Apr</td>\n",
       "      <td>54</td>\n",
       "    </tr>\n",
       "    <tr>\n",
       "      <th>5</th>\n",
       "      <td>May</td>\n",
       "      <td>18</td>\n",
       "    </tr>\n",
       "  </tbody>\n",
       "</table>\n",
       "</div>"
      ],
      "text/plain": [
       "  month  avalanche accidents count\n",
       "0   Mar                        136\n",
       "1   Feb                        116\n",
       "2   Jan                        104\n",
       "3   Dec                         75\n",
       "4   Apr                         54\n",
       "5   May                         18"
      ]
     },
     "execution_count": 8,
     "metadata": {},
     "output_type": "execute_result"
    }
   ],
   "source": [
    "# renaming columns and checking the result\n",
    "df_monthly.columns = ['month', 'avalanche accidents count']\n",
    "df_monthly.head(6)"
   ]
  },
  {
   "cell_type": "code",
   "execution_count": 9,
   "metadata": {},
   "outputs": [
    {
     "data": {
      "image/png": "[encoded data removed]",
      "text/plain": [
       "<Figure size 1008x576 with 1 Axes>"
      ]
     },
     "metadata": {
      "needs_background": "light"
     },
     "output_type": "display_data"
    }
   ],
   "source": [
    "# final visualization of avalanche accidents by months\n",
    "plt.figure(figsize=(14,8))\n",
    "base_color = sns.color_palette()[0]\n",
    "ax = sns.barplot(data=df_monthly, x='month', y='avalanche accidents count', color=base_color)\n",
    "ax.set_xticklabels(ax.get_xticklabels(), fontsize=12)\n",
    "ax.set(yticks=[])\n",
    "plt.title('The most dangerous months of year for avalanche accidents', fontsize=16)\n",
    "plt.xlabel('months', fontsize=12)\n",
    "plt.ylabel('count of avalanche accidents (total for period 10/2010-09/2019)', fontsize=12)\n",
    "\n",
    "for p in ax.patches:\n",
    "    height = p.get_height()\n",
    "    ax.text(p.get_x()+p.get_width()/2.,\n",
    "            height * 1.02,\n",
    "            \"{:,.0f}\".format(height),\n",
    "            ha=\"center\", size=12)\n",
    "    \n",
    "plt.savefig('dangerous_months_accidents', bbox_inches='tight', dpi=600)\n",
    "plt.show();"
   ]
  },
  {
   "cell_type": "code",
   "execution_count": 10,
   "metadata": {},
   "outputs": [
    {
     "data": {
      "text/plain": [
       "2018    82\n",
       "2013    74\n",
       "2014    55\n",
       "2015    54\n",
       "2017    53\n",
       "2019    52\n",
       "2016    50\n",
       "2012    43\n",
       "2011    39\n",
       "2010    21\n",
       "Name: year, dtype: int64"
      ]
     },
     "execution_count": 10,
     "metadata": {},
     "output_type": "execute_result"
    }
   ],
   "source": [
    "# checking distribution of avalanche accidents by year\n",
    "# we have to bear in mind that years 2010 and 2019 are not fully represented in my dataset\n",
    "df['year'] = df.date.dt.year\n",
    "df['year'].value_counts()"
   ]
  },
  {
   "cell_type": "code",
   "execution_count": 11,
   "metadata": {},
   "outputs": [],
   "source": [
    "# creating list of summer months\n",
    "summer = ['Jul', 'Aug', 'Sep']"
   ]
  },
  {
   "cell_type": "code",
   "execution_count": 12,
   "metadata": {},
   "outputs": [
    {
     "data": {
      "text/html": [
       "<div>\n",
       "<style scoped>\n",
       "    .dataframe tbody tr th:only-of-type {\n",
       "        vertical-align: middle;\n",
       "    }\n",
       "\n",
       "    .dataframe tbody tr th {\n",
       "        vertical-align: top;\n",
       "    }\n",
       "\n",
       "    .dataframe thead th {\n",
       "        text-align: right;\n",
       "    }\n",
       "</style>\n",
       "<table border=\"1\" class=\"dataframe\">\n",
       "  <thead>\n",
       "    <tr style=\"text-align: right;\">\n",
       "      <th></th>\n",
       "      <th>code accident</th>\n",
       "      <th>date</th>\n",
       "      <th>heure</th>\n",
       "      <th>département</th>\n",
       "      <th>commune</th>\n",
       "      <th>massif</th>\n",
       "      <th>region</th>\n",
       "      <th>massif_unique</th>\n",
       "      <th>site</th>\n",
       "      <th>coordonnées\\n zone départ</th>\n",
       "      <th>altitude</th>\n",
       "      <th>inclinaison</th>\n",
       "      <th>orientation</th>\n",
       "      <th>groupe</th>\n",
       "      <th>emportés</th>\n",
       "      <th>ensevelis \\n tête</th>\n",
       "      <th>décédés</th>\n",
       "      <th>blessées</th>\n",
       "      <th>indemnes</th>\n",
       "      <th>activité</th>\n",
       "      <th>activite_regrouped</th>\n",
       "      <th>évolution</th>\n",
       "      <th>BRA</th>\n",
       "      <th>qualité \\n neige</th>\n",
       "      <th>cohésion\\n neige</th>\n",
       "      <th>type \\n départ</th>\n",
       "      <th>cause départ</th>\n",
       "      <th>dénivelé\\n (mètres)</th>\n",
       "      <th>largeur \\n cassure\\n (mètres)</th>\n",
       "      <th>épaisseur\\n cassure max. \\n (cm)</th>\n",
       "      <th>month</th>\n",
       "      <th>year</th>\n",
       "    </tr>\n",
       "  </thead>\n",
       "  <tbody>\n",
       "    <tr>\n",
       "      <th>20</th>\n",
       "      <td>1415-05-12</td>\n",
       "      <td>2015-09-15</td>\n",
       "      <td>11:45</td>\n",
       "      <td>5</td>\n",
       "      <td>pelvoux</td>\n",
       "      <td>pelvoux</td>\n",
       "      <td>alps</td>\n",
       "      <td>Pelvoux</td>\n",
       "      <td>dome de neige des Ecrins</td>\n",
       "      <td>44°55'23.2\" / 6°21'30.7\"</td>\n",
       "      <td>3965.0</td>\n",
       "      <td>40-44</td>\n",
       "      <td>N</td>\n",
       "      <td>8.0</td>\n",
       "      <td>8</td>\n",
       "      <td>5</td>\n",
       "      <td>1</td>\n",
       "      <td>4</td>\n",
       "      <td>0</td>\n",
       "      <td>alpinisme</td>\n",
       "      <td>alpinisme</td>\n",
       "      <td>traversée</td>\n",
       "      <td>NaN</td>\n",
       "      <td>humide</td>\n",
       "      <td>dure</td>\n",
       "      <td>linéaire</td>\n",
       "      <td>accidentelle soi-même</td>\n",
       "      <td>220.0</td>\n",
       "      <td>250.0</td>\n",
       "      <td>200.0</td>\n",
       "      <td>Sep</td>\n",
       "      <td>2015</td>\n",
       "    </tr>\n",
       "    <tr>\n",
       "      <th>281</th>\n",
       "      <td>1213-74-12</td>\n",
       "      <td>2013-08-13</td>\n",
       "      <td>03:50</td>\n",
       "      <td>74</td>\n",
       "      <td>chamonix</td>\n",
       "      <td>mont blanc</td>\n",
       "      <td>alps</td>\n",
       "      <td>Mont-Blanc</td>\n",
       "      <td>face nord tacul</td>\n",
       "      <td>NaN</td>\n",
       "      <td>4300.0</td>\n",
       "      <td>40-44</td>\n",
       "      <td>N</td>\n",
       "      <td>6.0</td>\n",
       "      <td>3</td>\n",
       "      <td>2</td>\n",
       "      <td>2</td>\n",
       "      <td>0</td>\n",
       "      <td>1</td>\n",
       "      <td>alpinisme</td>\n",
       "      <td>alpinisme</td>\n",
       "      <td>NaN</td>\n",
       "      <td>NaN</td>\n",
       "      <td>sèche</td>\n",
       "      <td>dure</td>\n",
       "      <td>linéaire</td>\n",
       "      <td>naturelle sérac/corniche</td>\n",
       "      <td>250.0</td>\n",
       "      <td>NaN</td>\n",
       "      <td>NaN</td>\n",
       "      <td>Aug</td>\n",
       "      <td>2013</td>\n",
       "    </tr>\n",
       "    <tr>\n",
       "      <th>286</th>\n",
       "      <td>1112-74-09</td>\n",
       "      <td>2012-07-12</td>\n",
       "      <td>05:20</td>\n",
       "      <td>74</td>\n",
       "      <td>chamonix</td>\n",
       "      <td>mont blanc</td>\n",
       "      <td>alps</td>\n",
       "      <td>Mont-Blanc</td>\n",
       "      <td>mont maudit</td>\n",
       "      <td>32t 0334992 5079521</td>\n",
       "      <td>4200.0</td>\n",
       "      <td>40-44</td>\n",
       "      <td>N</td>\n",
       "      <td>23.0</td>\n",
       "      <td>23</td>\n",
       "      <td>9</td>\n",
       "      <td>9</td>\n",
       "      <td>0</td>\n",
       "      <td>0</td>\n",
       "      <td>alpinisme</td>\n",
       "      <td>alpinisme</td>\n",
       "      <td>NaN</td>\n",
       "      <td>NaN</td>\n",
       "      <td>sèche</td>\n",
       "      <td>dure</td>\n",
       "      <td>linéaire</td>\n",
       "      <td>naturelle sérac/corniche</td>\n",
       "      <td>200.0</td>\n",
       "      <td>NaN</td>\n",
       "      <td>NaN</td>\n",
       "      <td>Jul</td>\n",
       "      <td>2012</td>\n",
       "    </tr>\n",
       "    <tr>\n",
       "      <th>506</th>\n",
       "      <td>1415-74-11</td>\n",
       "      <td>2015-08-25</td>\n",
       "      <td>08:40</td>\n",
       "      <td>74</td>\n",
       "      <td>chamonix</td>\n",
       "      <td>mont blanc</td>\n",
       "      <td>alps</td>\n",
       "      <td>Mont-Blanc</td>\n",
       "      <td>face nord goûter</td>\n",
       "      <td>NaN</td>\n",
       "      <td>NaN</td>\n",
       "      <td>NaN</td>\n",
       "      <td>NaN</td>\n",
       "      <td>3.0</td>\n",
       "      <td>2</td>\n",
       "      <td>0</td>\n",
       "      <td>0</td>\n",
       "      <td>0</td>\n",
       "      <td>0</td>\n",
       "      <td>alpinisme</td>\n",
       "      <td>alpinisme</td>\n",
       "      <td>NaN</td>\n",
       "      <td>NaN</td>\n",
       "      <td>NaN</td>\n",
       "      <td>NaN</td>\n",
       "      <td>NaN</td>\n",
       "      <td>NaN</td>\n",
       "      <td>NaN</td>\n",
       "      <td>NaN</td>\n",
       "      <td>NaN</td>\n",
       "      <td>Aug</td>\n",
       "      <td>2015</td>\n",
       "    </tr>\n",
       "  </tbody>\n",
       "</table>\n",
       "</div>"
      ],
      "text/plain": [
       "    code accident       date  heure  département   commune      massif region  \\\n",
       "20     1415-05-12 2015-09-15  11:45            5   pelvoux     pelvoux   alps   \n",
       "281    1213-74-12 2013-08-13  03:50           74  chamonix  mont blanc   alps   \n",
       "286    1112-74-09 2012-07-12  05:20           74  chamonix  mont blanc   alps   \n",
       "506    1415-74-11 2015-08-25  08:40           74  chamonix  mont blanc   alps   \n",
       "\n",
       "    massif_unique                      site coordonnées\\n zone départ  \\\n",
       "20        Pelvoux  dome de neige des Ecrins  44°55'23.2\" / 6°21'30.7\"   \n",
       "281    Mont-Blanc           face nord tacul                       NaN   \n",
       "286    Mont-Blanc               mont maudit       32t 0334992 5079521   \n",
       "506    Mont-Blanc          face nord goûter                       NaN   \n",
       "\n",
       "     altitude inclinaison orientation  groupe  emportés  ensevelis \\n tête  \\\n",
       "20     3965.0       40-44           N     8.0         8                  5   \n",
       "281    4300.0       40-44           N     6.0         3                  2   \n",
       "286    4200.0       40-44           N    23.0        23                  9   \n",
       "506       NaN         NaN         NaN     3.0         2                  0   \n",
       "\n",
       "     décédés  blessées  indemnes   activité activite_regrouped  évolution  \\\n",
       "20         1         4         0  alpinisme          alpinisme  traversée   \n",
       "281        2         0         1  alpinisme          alpinisme        NaN   \n",
       "286        9         0         0  alpinisme          alpinisme        NaN   \n",
       "506        0         0         0  alpinisme          alpinisme        NaN   \n",
       "\n",
       "     BRA qualité \\n neige cohésion\\n neige type \\n départ  \\\n",
       "20   NaN           humide             dure       linéaire   \n",
       "281  NaN            sèche             dure       linéaire   \n",
       "286  NaN            sèche             dure       linéaire   \n",
       "506  NaN              NaN              NaN            NaN   \n",
       "\n",
       "                 cause départ  dénivelé\\n (mètres)  \\\n",
       "20      accidentelle soi-même                220.0   \n",
       "281  naturelle sérac/corniche                250.0   \n",
       "286  naturelle sérac/corniche                200.0   \n",
       "506                       NaN                  NaN   \n",
       "\n",
       "     largeur \\n cassure\\n (mètres)  épaisseur\\n cassure max. \\n (cm) month  \\\n",
       "20                           250.0                             200.0   Sep   \n",
       "281                            NaN                               NaN   Aug   \n",
       "286                            NaN                               NaN   Jul   \n",
       "506                            NaN                               NaN   Aug   \n",
       "\n",
       "     year  \n",
       "20   2015  \n",
       "281  2013  \n",
       "286  2012  \n",
       "506  2015  "
      ]
     },
     "execution_count": 12,
     "metadata": {},
     "output_type": "execute_result"
    }
   ],
   "source": [
    "# checking all records for summer avalanches\n",
    "df[df[\"month\"].isin(summer)]"
   ]
  },
  {
   "cell_type": "markdown",
   "metadata": {},
   "source": [
    "<a id='viz_2'></a>\n",
    "### Visualization of most dangerous activities on mountains"
   ]
  },
  {
   "cell_type": "code",
   "execution_count": 13,
   "metadata": {},
   "outputs": [
    {
     "data": {
      "text/html": [
       "<div>\n",
       "<style scoped>\n",
       "    .dataframe tbody tr th:only-of-type {\n",
       "        vertical-align: middle;\n",
       "    }\n",
       "\n",
       "    .dataframe tbody tr th {\n",
       "        vertical-align: top;\n",
       "    }\n",
       "\n",
       "    .dataframe thead th {\n",
       "        text-align: right;\n",
       "    }\n",
       "</style>\n",
       "<table border=\"1\" class=\"dataframe\">\n",
       "  <thead>\n",
       "    <tr style=\"text-align: right;\">\n",
       "      <th></th>\n",
       "      <th>index</th>\n",
       "      <th>activite_regrouped</th>\n",
       "    </tr>\n",
       "  </thead>\n",
       "  <tbody>\n",
       "    <tr>\n",
       "      <th>0</th>\n",
       "      <td>hiking</td>\n",
       "      <td>230</td>\n",
       "    </tr>\n",
       "    <tr>\n",
       "      <th>1</th>\n",
       "      <td>off-piste (ski, snowboard)</td>\n",
       "      <td>195</td>\n",
       "    </tr>\n",
       "    <tr>\n",
       "      <th>2</th>\n",
       "      <td>cross-country (ski, snowboard etc.)</td>\n",
       "      <td>40</td>\n",
       "    </tr>\n",
       "    <tr>\n",
       "      <th>3</th>\n",
       "      <td>alpinisme</td>\n",
       "      <td>30</td>\n",
       "    </tr>\n",
       "    <tr>\n",
       "      <th>4</th>\n",
       "      <td>other</td>\n",
       "      <td>20</td>\n",
       "    </tr>\n",
       "    <tr>\n",
       "      <th>5</th>\n",
       "      <td>piste (ski, snowboard)</td>\n",
       "      <td>8</td>\n",
       "    </tr>\n",
       "  </tbody>\n",
       "</table>\n",
       "</div>"
      ],
      "text/plain": [
       "                                 index  activite_regrouped\n",
       "0                               hiking                 230\n",
       "1           off-piste (ski, snowboard)                 195\n",
       "2  cross-country (ski, snowboard etc.)                  40\n",
       "3                            alpinisme                  30\n",
       "4                                other                  20\n",
       "5               piste (ski, snowboard)                   8"
      ]
     },
     "execution_count": 13,
     "metadata": {},
     "output_type": "execute_result"
    }
   ],
   "source": [
    "# creating dataframe with data for activities\n",
    "df_activity = df.activite_regrouped.value_counts()\n",
    "df_activity = df_activity.to_frame().reset_index()\n",
    "df_activity.head(6)"
   ]
  },
  {
   "cell_type": "code",
   "execution_count": 14,
   "metadata": {},
   "outputs": [
    {
     "data": {
      "text/html": [
       "<div>\n",
       "<style scoped>\n",
       "    .dataframe tbody tr th:only-of-type {\n",
       "        vertical-align: middle;\n",
       "    }\n",
       "\n",
       "    .dataframe tbody tr th {\n",
       "        vertical-align: top;\n",
       "    }\n",
       "\n",
       "    .dataframe thead th {\n",
       "        text-align: right;\n",
       "    }\n",
       "</style>\n",
       "<table border=\"1\" class=\"dataframe\">\n",
       "  <thead>\n",
       "    <tr style=\"text-align: right;\">\n",
       "      <th></th>\n",
       "      <th>activity</th>\n",
       "      <th>avalanche accidents count</th>\n",
       "    </tr>\n",
       "  </thead>\n",
       "  <tbody>\n",
       "    <tr>\n",
       "      <th>0</th>\n",
       "      <td>hiking</td>\n",
       "      <td>230</td>\n",
       "    </tr>\n",
       "    <tr>\n",
       "      <th>1</th>\n",
       "      <td>off-piste (ski, snowboard)</td>\n",
       "      <td>195</td>\n",
       "    </tr>\n",
       "    <tr>\n",
       "      <th>2</th>\n",
       "      <td>cross-country (ski, snowboard etc.)</td>\n",
       "      <td>40</td>\n",
       "    </tr>\n",
       "    <tr>\n",
       "      <th>3</th>\n",
       "      <td>alpinisme</td>\n",
       "      <td>30</td>\n",
       "    </tr>\n",
       "    <tr>\n",
       "      <th>4</th>\n",
       "      <td>other</td>\n",
       "      <td>20</td>\n",
       "    </tr>\n",
       "    <tr>\n",
       "      <th>5</th>\n",
       "      <td>piste (ski, snowboard)</td>\n",
       "      <td>8</td>\n",
       "    </tr>\n",
       "  </tbody>\n",
       "</table>\n",
       "</div>"
      ],
      "text/plain": [
       "                              activity  avalanche accidents count\n",
       "0                               hiking                        230\n",
       "1           off-piste (ski, snowboard)                        195\n",
       "2  cross-country (ski, snowboard etc.)                         40\n",
       "3                            alpinisme                         30\n",
       "4                                other                         20\n",
       "5               piste (ski, snowboard)                          8"
      ]
     },
     "execution_count": 14,
     "metadata": {},
     "output_type": "execute_result"
    }
   ],
   "source": [
    "# renaming columns\n",
    "df_activity.columns = ['activity', 'avalanche accidents count']\n",
    "df_activity.head(6)"
   ]
  },
  {
   "cell_type": "code",
   "execution_count": 15,
   "metadata": {},
   "outputs": [
    {
     "data": {
      "image/png": "[encoded data removed]",
      "text/plain": [
       "<Figure size 576x432 with 1 Axes>"
      ]
     },
     "metadata": {
      "needs_background": "light"
     },
     "output_type": "display_data"
    }
   ],
   "source": [
    "# final visualization of avalanche accidents by activity\n",
    "plt.figure(figsize=(8,6))\n",
    "base_color = sns.color_palette()[0]\n",
    "ax = sns.barplot(data=df_activity, x='activity', y='avalanche accidents count', color=base_color)\n",
    "ax.set_xticklabels(ax.get_xticklabels(), rotation=80, fontsize=12, horizontalalignment='center')\n",
    "ax.set(yticks=[])\n",
    "plt.title('The most dangerous mountain activity by sum of avalanche accidents', fontsize=14)\n",
    "plt.xlabel('')\n",
    "plt.ylabel('')\n",
    "\n",
    "for p in ax.patches:\n",
    "    height = p.get_height()\n",
    "    ax.text(p.get_x()+p.get_width()/2.,\n",
    "            height * 1.02,\n",
    "            \"{:,.0f}\".format(height),\n",
    "            ha=\"center\", size=12)\n",
    "    \n",
    "plt.savefig('dangerous_activity_accidents', bbox_inches='tight', dpi=600)\n",
    "plt.show();"
   ]
  },
  {
   "cell_type": "code",
   "execution_count": 16,
   "metadata": {},
   "outputs": [
    {
     "data": {
      "text/plain": [
       "Vanoise       71\n",
       "Hte-tarent    54\n",
       "Mont-Blanc    43\n",
       "Hte-maurie    33\n",
       "Queyras       29\n",
       "Pelvoux       26\n",
       "Chablais      25\n",
       "Oisans        23\n",
       "Aravis        21\n",
       "hte-bigo      20\n",
       "Maurienne     18\n",
       "Belledone     18\n",
       "Gdes-rouss    14\n",
       "other         14\n",
       "Beaufortin    13\n",
       "Chartreuse    13\n",
       "Mercantour    11\n",
       "Thabor        10\n",
       "Ubaye         10\n",
       "Vercors        8\n",
       "Parpaillon     8\n",
       "Champsaur      8\n",
       "Bauges         8\n",
       "hte-ariege     5\n",
       "luchonnais     5\n",
       "capcir         4\n",
       "aspe-ossau     3\n",
       "Devoluy        2\n",
       "couseran       2\n",
       "Ht_Var-Ver     2\n",
       "aure_lour      1\n",
       "cerdagne       1\n",
       "Name: massif_unique, dtype: int64"
      ]
     },
     "execution_count": 16,
     "metadata": {},
     "output_type": "execute_result"
    }
   ],
   "source": [
    "# checking avalanche accidents by different massifs\n",
    "df.massif_unique.value_counts()"
   ]
  },
  {
   "cell_type": "code",
   "execution_count": 17,
   "metadata": {},
   "outputs": [],
   "source": [
    "# correcting typo in massif name\n",
    "df.loc[df.massif_unique==\"Belledone\", 'massif_unique']=\"Belledonne\""
   ]
  },
  {
   "cell_type": "code",
   "execution_count": 18,
   "metadata": {},
   "outputs": [
    {
     "data": {
      "text/plain": [
       "alps        468\n",
       "pyrenees     41\n",
       "other        14\n",
       "Name: region, dtype: int64"
      ]
     },
     "execution_count": 18,
     "metadata": {},
     "output_type": "execute_result"
    }
   ],
   "source": [
    "# checking distribution of avalanche accidents in different regions\n",
    "df.region.value_counts()"
   ]
  },
  {
   "cell_type": "markdown",
   "metadata": {},
   "source": [
    "<a id='viz_3'></a>\n",
    "### Visualization of most dangerous group size when moving on mountains"
   ]
  },
  {
   "cell_type": "code",
   "execution_count": 19,
   "metadata": {},
   "outputs": [
    {
     "data": {
      "text/plain": [
       "2.0     142\n",
       "3.0      79\n",
       "1.0      72\n",
       "4.0      52\n",
       "5.0      21\n",
       "6.0      18\n",
       "7.0      15\n",
       "8.0       7\n",
       "9.0       7\n",
       "15.0      5\n",
       "11.0      4\n",
       "10.0      3\n",
       "12.0      3\n",
       "33.0      1\n",
       "20.0      1\n",
       "18.0      1\n",
       "14.0      1\n",
       "52.0      1\n",
       "50.0      1\n",
       "13.0      1\n",
       "22.0      1\n",
       "23.0      1\n",
       "19.0      1\n",
       "Name: groupe, dtype: int64"
      ]
     },
     "execution_count": 19,
     "metadata": {},
     "output_type": "execute_result"
    }
   ],
   "source": [
    "# checking value counts for group size\n",
    "df.groupe.value_counts()"
   ]
  },
  {
   "cell_type": "code",
   "execution_count": 23,
   "metadata": {},
   "outputs": [
    {
     "data": {
      "text/plain": [
       "0      2\n",
       "1      6\n",
       "2      7\n",
       "3      4\n",
       "4      1\n",
       "      ..\n",
       "554    0\n",
       "555    0\n",
       "556    0\n",
       "566    0\n",
       "568    0\n",
       "Name: groupe, Length: 523, dtype: int64"
      ]
     },
     "execution_count": 23,
     "metadata": {},
     "output_type": "execute_result"
    }
   ],
   "source": [
    "df['groupe']"
   ]
  },
  {
   "cell_type": "code",
   "execution_count": 20,
   "metadata": {},
   "outputs": [],
   "source": [
    "# removing nans from groupe variables and changing data type from float to integer\n",
    "df.groupe = df.groupe.fillna(0)\n",
    "df.groupe = df.groupe.astype(int)"
   ]
  },
  {
   "cell_type": "code",
   "execution_count": 21,
   "metadata": {},
   "outputs": [],
   "source": [
    "# regrouping values for group size variables\n",
    "def group_category(x):\n",
    "    if x == 0:\n",
    "        return None\n",
    "    elif x in range(1, 8):\n",
    "        return x\n",
    "    elif x in range(8, 11):\n",
    "        return \"8-10\"\n",
    "    elif x in range(11, 15):\n",
    "        return \"11-14\"\n",
    "    else:\n",
    "        return \"more than 15\"\n",
    "\n",
    "df['groupe_edited'] = df.groupe.apply(group_category)                             "
   ]
  },
  {
   "cell_type": "code",
   "execution_count": null,
   "metadata": {},
   "outputs": [],
   "source": [
    "# new dataframe for group size\n",
    "avalanche_group = (df.groupe_edited.value_counts()).to_frame().reset_index()\n",
    "avalanche_group.columns = ['size_of_group', 'sum_of_avalanche_accidents']\n",
    "avalanche_group"
   ]
  },
  {
   "cell_type": "code",
   "execution_count": null,
   "metadata": {},
   "outputs": [],
   "source": [
    "# final visualization of avalanche accidents by group size\n",
    "df_group = df[df[\"groupe\"]>0]\n",
    "\n",
    "base_color = sns.color_palette()[0]\n",
    "plt.figure(figsize=(12,8))\n",
    "ax = sns.countplot(data=df_group, x='groupe', color=base_color)\n",
    "ax.grid(False)\n",
    "plt.title(\"Distribution of avalanche accidents by size of group\", fontsize=14)\n",
    "plt.xlabel(\"group size\")\n",
    "plt.ylabel(\"count\")\n",
    "plt.savefig('dangerous_group_size_accidents', bbox_inches='tight', dpi=600)\n",
    "plt.show();"
   ]
  },
  {
   "cell_type": "markdown",
   "metadata": {},
   "source": [
    "<a id='viz_4'></a>\n",
    "### Visualization of most dangerous altitude"
   ]
  },
  {
   "cell_type": "code",
   "execution_count": null,
   "metadata": {},
   "outputs": [],
   "source": [
    "# checking most dangerous altitudes\n",
    "df.altitude.value_counts()"
   ]
  },
  {
   "cell_type": "code",
   "execution_count": null,
   "metadata": {},
   "outputs": [],
   "source": [
    "# looking for lowest altitude and getting further insight about different values\n",
    "np.sort(df.altitude.unique())"
   ]
  },
  {
   "cell_type": "code",
   "execution_count": null,
   "metadata": {},
   "outputs": [],
   "source": [
    "# final visualization for avalanche accidents by altitudes\n",
    "binsize = 100\n",
    "bins = np.arange(1000, df.altitude.max()+binsize, binsize)\n",
    "plt.figure(figsize=(10,6))\n",
    "plt.hist(data=df, x='altitude', bins=bins, color=base_color)\n",
    "plt.title(\"Distribution of avalanche accidents by altitude\", fontsize=16)\n",
    "plt.xlabel(\"altitude in metres\", fontsize=12)\n",
    "plt.ylabel(\"count of avalanche accidents\", fontsize=12)\n",
    "plt.savefig('dangerous_altitude_accidents', bbox_inches='tight', dpi=600)\n",
    "plt.show();"
   ]
  },
  {
   "cell_type": "code",
   "execution_count": null,
   "metadata": {},
   "outputs": [],
   "source": [
    "# removing nans and changing data type from float to integer\n",
    "df.altitude = df.altitude.fillna(0)\n",
    "df.altitude = df.altitude.astype(int)"
   ]
  },
  {
   "cell_type": "code",
   "execution_count": null,
   "metadata": {},
   "outputs": [],
   "source": [
    "# regrouping of altitude values\n",
    "df['altitude_edited'] = df.altitude.apply(lambda x:\n",
    "                                     None if x < 1000\n",
    "                                    else \"1000-1499\" if x < 1500\n",
    "                                    else \"1500-1999\" if x < 2000\n",
    "                                    else \"2000-2499\" if x < 2500\n",
    "                                    else \"2500-2999\" if x < 3000\n",
    "                                    else \"3000-3499\" if x < 3500\n",
    "                                    else \"3500-3999\" if x < 4000\n",
    "                                   else \"4000+\")"
   ]
  },
  {
   "cell_type": "code",
   "execution_count": null,
   "metadata": {},
   "outputs": [],
   "source": [
    "# checking results for regrouped altitude values\n",
    "df.altitude_edited.value_counts()"
   ]
  },
  {
   "cell_type": "markdown",
   "metadata": {},
   "source": [
    "<a id='viz_5'></a>\n",
    "### Visualization of most dangerous time during the day"
   ]
  },
  {
   "cell_type": "code",
   "execution_count": null,
   "metadata": {},
   "outputs": [],
   "source": [
    "# checking values for hour of accidents\n",
    "df.heure.value_counts()"
   ]
  },
  {
   "cell_type": "code",
   "execution_count": null,
   "metadata": {},
   "outputs": [],
   "source": [
    "# checking data type of hour variable\n",
    "np.dtype(df.heure)"
   ]
  },
  {
   "cell_type": "code",
   "execution_count": null,
   "metadata": {},
   "outputs": [],
   "source": [
    "# changing data type to datetime for easier handling of variable\n",
    "import datetime as dt\n",
    "df['hour_of_day'] = (pd.to_datetime(df.heure)).dt.hour"
   ]
  },
  {
   "cell_type": "code",
   "execution_count": null,
   "metadata": {},
   "outputs": [],
   "source": [
    "# viewing all unique values\n",
    "df[\"hour_of_day\"].unique()"
   ]
  },
  {
   "cell_type": "code",
   "execution_count": null,
   "metadata": {},
   "outputs": [],
   "source": [
    "# creating new dataframe to store hourly data\n",
    "hour_df = df[df[\"hour_of_day\"]>0]"
   ]
  },
  {
   "cell_type": "code",
   "execution_count": null,
   "metadata": {},
   "outputs": [],
   "source": [
    "# final visualization of most dangerous hour of day for avalanche accidents\n",
    "base_color = sns.color_palette()[0]\n",
    "plt.figure(figsize=(10,6))\n",
    "ax = sns.countplot(data=hour_df, x='hour_of_day', color=base_color)\n",
    "plt.title(\"Distribution of avalanche accidents by hour of day\", fontsize=16)\n",
    "plt.xlabel(\"hours of day\", fontsize=12)\n",
    "plt.ylabel(\"count of avalanche accidents\", fontsize=12)\n",
    "plt.savefig('dangerous_hours_of_day_accidents', bbox_inches='tight', dpi=600)\n",
    "plt.show()\n",
    "ax.grid(False)"
   ]
  },
  {
   "cell_type": "code",
   "execution_count": null,
   "metadata": {},
   "outputs": [],
   "source": [
    "# displaying info for other variables\n",
    "df.évolution.value_counts()"
   ]
  },
  {
   "cell_type": "code",
   "execution_count": null,
   "metadata": {},
   "outputs": [],
   "source": [
    "df[\"qualité \\nneige\"].value_counts()"
   ]
  },
  {
   "cell_type": "code",
   "execution_count": null,
   "metadata": {},
   "outputs": [],
   "source": [
    "df[\"cohésion\\nneige\"].value_counts()"
   ]
  },
  {
   "cell_type": "code",
   "execution_count": null,
   "metadata": {},
   "outputs": [],
   "source": [
    "df[\"cause départ\"].value_counts()"
   ]
  },
  {
   "cell_type": "markdown",
   "metadata": {},
   "source": [
    "<a id='french_alps'></a>\n",
    "## Focus only on massifs on French Alps"
   ]
  },
  {
   "cell_type": "code",
   "execution_count": null,
   "metadata": {},
   "outputs": [],
   "source": [
    "# selecting only data for French Alps\n",
    "df_alps = df[df[\"region\"]==\"alps\"]"
   ]
  },
  {
   "cell_type": "code",
   "execution_count": null,
   "metadata": {},
   "outputs": [],
   "source": [
    "df_alps.head()"
   ]
  },
  {
   "cell_type": "code",
   "execution_count": null,
   "metadata": {},
   "outputs": [],
   "source": [
    "# creating new dataframe for sum of avalanche accidents in different massifs of French Alps\n",
    "df_alps_sum_aval = df_alps[[\"massif_unique\", \"code accident\"]]"
   ]
  },
  {
   "cell_type": "code",
   "execution_count": null,
   "metadata": {},
   "outputs": [],
   "source": [
    "df_alps_sum_aval = df_alps_sum_aval.groupby(\"massif_unique\").count().reset_index().sort_values(by=\"code accident\", ascending=False)\n",
    "df_alps_sum_aval.columns=[\"massif\",\"sum_of_avalanches\"]\n",
    "df_alps_sum_aval"
   ]
  },
  {
   "cell_type": "code",
   "execution_count": null,
   "metadata": {},
   "outputs": [],
   "source": [
    "# checking total number of avalanche accidents in French Alps\n",
    "df_alps_sum_aval.sum_of_avalanches.sum()"
   ]
  },
  {
   "cell_type": "markdown",
   "metadata": {},
   "source": [
    "<a id='alps_1'></a>\n",
    "## Import of data from shapefile for later geospatial visualization"
   ]
  },
  {
   "cell_type": "code",
   "execution_count": null,
   "metadata": {},
   "outputs": [],
   "source": [
    "# importing Geopandas library for handling geospatial data\n",
    "import geopandas as gpd\n",
    "\n",
    "# reading shapefile of massifs in french Alps\n",
    "gdf_alps = gpd.read_file(r\".\\\\shapefile\\\\massifs_alpes_2154.shp\")"
   ]
  },
  {
   "cell_type": "code",
   "execution_count": null,
   "metadata": {},
   "outputs": [],
   "source": [
    "# merge of shapefile and data with sum of avalanche accidents\n",
    "aval_accidents_viz = pd.merge(gdf_alps, df_alps_sum_aval, how=\"left\", left_on=\"nom_reduit\", right_on=\"massif\")"
   ]
  },
  {
   "cell_type": "code",
   "execution_count": null,
   "metadata": {},
   "outputs": [],
   "source": [
    "# checking nez dataframe\n",
    "aval_accidents_viz"
   ]
  },
  {
   "cell_type": "code",
   "execution_count": null,
   "metadata": {},
   "outputs": [],
   "source": [
    "# displaying general infor about new dataframe\n",
    "aval_accidents_viz.info()"
   ]
  },
  {
   "cell_type": "code",
   "execution_count": null,
   "metadata": {},
   "outputs": [],
   "source": [
    "# verifying names of massifs\n",
    "aval_accidents_viz.nom.unique()"
   ]
  },
  {
   "cell_type": "markdown",
   "metadata": {},
   "source": [
    "<a id='alps_2'></a>\n",
    "## Geospatial visualization with Bokeh"
   ]
  },
  {
   "cell_type": "code",
   "execution_count": null,
   "metadata": {},
   "outputs": [],
   "source": [
    "# importing objects from Bokeh library for further use for visualization\n",
    "from bokeh.io import save, output_notebook\n",
    "from bokeh.models import (ColorBar,\n",
    "                          GeoJSONDataSource, HoverTool,\n",
    "                          LinearColorMapper)\n",
    "from bokeh.palettes import brewer\n",
    "from bokeh.plotting import figure, output_file, show"
   ]
  },
  {
   "cell_type": "code",
   "execution_count": null,
   "metadata": {},
   "outputs": [],
   "source": [
    "# importing json because geosource has to be in format of JSON\n",
    "import json\n",
    "geosource = GeoJSONDataSource(geojson = aval_accidents_viz.to_json())"
   ]
  },
  {
   "cell_type": "code",
   "execution_count": null,
   "metadata": {},
   "outputs": [],
   "source": [
    "# define color palettes\n",
    "palette = brewer['YlGnBu'][9]\n",
    "palette = palette[::-1] # reverse order of colors so higher values have darker colors\n",
    "\n",
    "# instantiate LinearColorMapper that linearly maps numbers in a range into a sequence of colors\n",
    "# and nan values will be colored in grey\n",
    "color_mapper = LinearColorMapper(palette = palette, low = 2, high = 71, nan_color = '#d9d9d9')\n",
    "\n",
    "# create color bar\n",
    "color_bar = ColorBar(color_mapper = color_mapper, \n",
    "                     label_standoff = 8,\n",
    "                     width = 400, height = 20,\n",
    "                     border_line_color = None,\n",
    "                     location = (0,0), \n",
    "                     orientation = 'horizontal',)"
   ]
  },
  {
   "cell_type": "code",
   "execution_count": null,
   "metadata": {},
   "outputs": [],
   "source": [
    "# create figure object\n",
    "p = figure(title = 'Avalanche accidents from 10/2010 till 09/2019 in massifs of french Alps', \n",
    "           plot_height = 700,\n",
    "           plot_width = 500, \n",
    "           toolbar_location = 'below',\n",
    "           tools = 'pan, wheel_zoom, box_zoom, reset')\n",
    "\n",
    "p.xgrid.grid_line_color = None\n",
    "p.ygrid.grid_line_color = None"
   ]
  },
  {
   "cell_type": "code",
   "execution_count": null,
   "metadata": {},
   "outputs": [],
   "source": [
    "# add patch renderer to figure\n",
    "massifs = p.patches('xs','ys', source = geosource,\n",
    "                   fill_color = {'field' :'sum_of_avalanches',\n",
    "                                 'transform' : color_mapper},\n",
    "                   line_color = 'gray', \n",
    "                   line_width = 0.20, \n",
    "                   fill_alpha = 1)"
   ]
  },
  {
   "cell_type": "code",
   "execution_count": null,
   "metadata": {},
   "outputs": [],
   "source": [
    "# create hover tool\n",
    "p.add_tools(HoverTool(renderers = [massifs],\n",
    "                      tooltips = [('massif','@nom'),\n",
    "                                ('sum_of_avalanches','@sum_of_avalanches')]))\n",
    "\n",
    "p.add_layout(color_bar, 'below')"
   ]
  },
  {
   "cell_type": "code",
   "execution_count": null,
   "metadata": {},
   "outputs": [],
   "source": [
    "# final visualization can be seen as html page\n",
    "output_notebook()\n",
    "show(p)"
   ]
  },
  {
   "cell_type": "code",
   "execution_count": null,
   "metadata": {},
   "outputs": [],
   "source": [
    "# creating new color mapper in order to compare color scale with avalanche events which have max 210\n",
    "color_mapper_2 = LinearColorMapper(palette = palette, low = 2, high = 210, nan_color = '#d9d9d9')\n",
    "\n",
    "color_bar = ColorBar(color_mapper = color_mapper_2, \n",
    "                     label_standoff = 8,\n",
    "                     width = 400, height = 20,\n",
    "                     border_line_color = None,\n",
    "                     location = (0,0), \n",
    "                     orientation = 'horizontal',)\n",
    "\n",
    "p_2 = figure(title = 'Avalanche accidents from 10/2010 till 09/2019 in massifs of french Alps', \n",
    "           plot_height = 700,\n",
    "           plot_width = 500, \n",
    "           toolbar_location = 'below',\n",
    "           tools = 'pan, wheel_zoom, box_zoom, reset')\n",
    "\n",
    "p_2.xgrid.grid_line_color = None\n",
    "p_2.ygrid.grid_line_color = None\n",
    "\n",
    "# add patch renderer to figure\n",
    "massifs = p_2.patches('xs','ys', source = geosource,\n",
    "                   fill_color = {'field' :'sum_of_avalanches',\n",
    "                                 'transform' : color_mapper_2},\n",
    "                   line_color = 'gray', \n",
    "                   line_width = 0.20, \n",
    "                   fill_alpha = 1)\n",
    "\n",
    "p_2.add_tools(HoverTool(renderers = [massifs],\n",
    "                      tooltips = [('massif','@nom'),\n",
    "                                ('sum_of_avalanches','@sum_of_avalanches')]))\n",
    "\n",
    "p_2.add_layout(color_bar, 'below')\n",
    "\n",
    "\n",
    "output_notebook()\n",
    "show(p_2)"
   ]
  }
 ],
 "metadata": {
  "kernelspec": {
   "display_name": "avalanche",
   "language": "python",
   "name": "python3"
  },
  "language_info": {
   "codemirror_mode": {
    "name": "ipython",
    "version": 3
   },
   "file_extension": ".py",
   "mimetype": "text/x-python",
   "name": "python",
   "nbconvert_exporter": "python",
   "pygments_lexer": "ipython3",
   "version": "3.6.13"
  },
  "vscode": {
   "interpreter": {
    "hash": "aa75410ecbede2eb2154b730849040adddb7377702d3859ea932cf5a83adb3fa"
   }
  }
 },
 "nbformat": 4,
 "nbformat_minor": 4
}
